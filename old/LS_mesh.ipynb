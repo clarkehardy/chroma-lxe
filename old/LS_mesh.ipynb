{
 "cells": [
  {
   "cell_type": "code",
   "execution_count": 1,
   "metadata": {},
   "outputs": [],
   "source": [
    "import trimesh\n",
    "from trimesh import transformations\n",
    "import numpy as np\n",
    "\n",
    "sipm_stls = !ls ../data/stl/sipm_tiles/*.STL\n",
    "\n",
    "stls = [\n",
    "    \"../data/stl/short_tpc_assembly_modulo_anode_sipm.STL\",\n",
    "    \"../data/stl/simplified_anode_substrate.STL\",\n",
    "    \"../data/stl/simplified_anode.STL\",\n",
    "    \"../data/stl/sipm_ceramic_board.STL\",\n",
    "] + sipm_stls"
   ]
  },
  {
   "cell_type": "code",
   "execution_count": 2,
   "metadata": {},
   "outputs": [],
   "source": [
    "def get_rotmat(axis, rot):\n",
    "    if axis == \"x\":\n",
    "        direction = [1, 0, 0]\n",
    "    elif axis == \"y\":\n",
    "        direction = [0, 1, 0]\n",
    "    elif axis == \"z\":\n",
    "        direction = [0, 0, 1]\n",
    "    return transformations.rotation_matrix(rot, direction, [0,0,0])\n",
    "\n",
    "\"\"\"\n",
    "    mesh.apply_translation(translate)'t a great way to find the proper offsets and rotation matrixes\n",
    "for each STL file. I found these by manually loading the STLs into Blender and\n",
    "finding the proper offsets and rotations. The offsets are in millimeters and the\n",
    "rotations are in radians. The rotations are all around the origin of the STL file.\n",
    "\"\"\"\n",
    "\n",
    "rotmats = [\n",
    "    np.eye(4),                              # ShortTPC_Full_assembly_noceramicgoldorsipm_plugged\n",
    "    get_rotmat(\"y\", 112 * np.pi / 180),     # simplified anode substrate\n",
    "    get_rotmat(\"y\", 112 * np.pi / 180),     # simplified anode\n",
    "    np.eye(4),                              # SiPM_ceramic_board\n",
    "] + [get_rotmat(\"y\", 0) for _ in sipm_stls] # SiPMs\n",
    "\n",
    "translates = [\n",
    "    [0, 0, 0],                              # ShortTPC_Full_assembly_noceramicgoldorsipm_plugged\n",
    "    [-2372.5, 643.41, 6452.3],              # simplified anode substrate\n",
    "    [-1979.5, 590.41, 5542.3],              # simplified anode\n",
    "    [-3410.3, -6253, -3415.3],              # SiPM_ceramic_board\n",
    "] + [[-3410.3, -6251.9, -3415.3] for _ in sipm_stls] # SiPMs\n",
    "translates = np.array(translates) / 100  # convert to cm\n",
    "\n",
    "def apply_transform(mesh, rotmat, translate):\n",
    "    mesh.apply_transform(rotmat)\n",
    "    mesh.apply_translation(translate)\n",
    "    return mesh"
   ]
  },
  {
   "cell_type": "code",
   "execution_count": 3,
   "metadata": {},
   "outputs": [],
   "source": [
    "from functools import reduce\n",
    "import operator\n",
    "\n",
    "meshes = {}\n",
    "\n",
    "colors = [\n",
    "    [200, 200, 200, 100],\n",
    "    [254, 254, 254, 255],\n",
    "    [212, 175, 55, 255],\n",
    "    [254, 254, 254, 255],\n",
    "] + [[212, 175, 55, 255] for _ in sipm_stls]\n",
    "\n",
    "for i, (stl, rotmat, translate) in enumerate(zip(stls, rotmats, translates)):\n",
    "    mesh = trimesh.load_mesh(stl)\n",
    "    name = stl.split(\"/\")[-1].split(\".\")[0]\n",
    "\n",
    "    mesh = apply_transform(mesh, rotmat, translate)\n",
    "    mesh.visual.face_colors = colors[i]\n",
    "    meshes[name] = mesh\n",
    "\n",
    "merged_mesh = reduce(operator.add, meshes.values())z"
   ]
  },
  {
   "cell_type": "code",
   "execution_count": 4,
   "metadata": {},
   "outputs": [
    {
     "name": "stdout",
     "output_type": "stream",
     "text": [
      "(65025, 3)\n"
     ]
    }
   ],
   "source": [
    "xavg = (merged_mesh.vertices[:,0].min() + merged_mesh.vertices[:,0].max()) / 2\n",
    "zavg = (merged_mesh.vertices[:,2].min() + merged_mesh.vertices[:,2].max()) / 2\n",
    "\n",
    "sipm_y = meshes['SiPM_0'].vertices[:,1].mean()\n",
    "center_y = ((sipm_y-40) + (sipm_y + 83)) / 2\n",
    "center = np.array([xavg, center_y, zavg])\n",
    "\n",
    "radius = 254/2\n",
    "height = (83+40) / 2\n",
    "\n",
    "bounds = [\n",
    "    [xavg-radius, center_y-height, zavg-radius],\n",
    "    [xavg+radius, center_y+height, zavg+radius]\n",
    "]\n",
    "\n",
    "x = np.arange(bounds[0][0], bounds[1][0], 5)\n",
    "y = np.arange(bounds[0][1], bounds[1][1], 5)\n",
    "z = np.arange(bounds[0][2], bounds[1][2], 5)\n",
    "xv, yv, zv = np.meshgrid(x, y, z)\n",
    "\n",
    "points = np.array([xv.flatten(), yv.flatten(), zv.flatten()]).T\n",
    "\n",
    "print(points.shape)"
   ]
  },
  {
   "cell_type": "code",
   "execution_count": 12,
   "metadata": {},
   "outputs": [
    {
     "data": {
      "text/plain": [
       "False"
      ]
     },
     "execution_count": 12,
     "metadata": {},
     "output_type": "execute_result"
    }
   ],
   "source": [
    "meshes['short_tpc_assembly_modulo_anode_sipm'].is_volume"
   ]
  },
  {
   "cell_type": "code",
   "execution_count": 5,
   "metadata": {},
   "outputs": [],
   "source": [
    "from scipy.spatial import KDTree\n",
    "\n",
    "active_volume_mesh = merged_mesh\n",
    "volume_tree = KDTree(active_volume_mesh.triangles_center)\n",
    "\n",
    "def is_point_valid(point):\n",
    "    return volume_tree.query(point)[1]"
   ]
  },
  {
   "cell_type": "code",
   "execution_count": 6,
   "metadata": {},
   "outputs": [],
   "source": [
    "from tqdm import trange\n",
    "\n",
    "def find_closest_triangles(i, batch_size, points, tri_centers):\n",
    "    batch_points = points[i:i+batch_size]\n",
    "    closest_triangles_batch = np.argmin(np.linalg.norm(tri_centers[:, None] - batch_points[None], axis=-1), axis=0)\n",
    "    return closest_triangles_batch\n",
    "\n",
    "# Concatenate the results from all batches\n",
    "closest_triangles = volume_tree.query(points)[-1]"
   ]
  },
  {
   "cell_type": "code",
   "execution_count": 7,
   "metadata": {},
   "outputs": [],
   "source": [
    "tri_centers = active_volume_mesh.triangles_center\n",
    "\n",
    "# Find triangle normal\n",
    "closest_normals = merged_mesh.face_normals[closest_triangles]\n",
    "\n",
    "# Find unit vector from point to triangle\n",
    "closest_vectors = tri_centers[closest_triangles]-points\n",
    "closest_vectors /= np.linalg.norm(closest_vectors, axis=1)[:, None]\n",
    "\n",
    "# Find dot product between normal and vector\n",
    "dot_products = np.sum(closest_normals * closest_vectors, axis=1)\n",
    "\n",
    "inside = dot_products > 0"
   ]
  },
  {
   "cell_type": "code",
   "execution_count": 8,
   "metadata": {},
   "outputs": [],
   "source": [
    "# create trimesh lines between closest points and points\n",
    "closest_points = tri_centers[closest_triangles]\n",
    "lines = np.array([points, closest_points]).transpose(1, 0, 2)"
   ]
  },
  {
   "cell_type": "code",
   "execution_count": 9,
   "metadata": {},
   "outputs": [],
   "source": [
    "\n",
    "def render_track(points, sz=0.1, inside=True):\n",
    "    origin = points[:-1]\n",
    "    extent = points[1:]-points[:-1]\n",
    "    perp1 = np.cross(origin,extent)\n",
    "    perp1 = np.inner(sz/2.0/np.linalg.norm(perp1,axis=1),perp1.T).T\n",
    "    perp2 = np.cross(perp1,extent)\n",
    "    perp2 = np.inner(sz/2.0/np.linalg.norm(perp2,axis=1),perp2.T).T\n",
    "    verts = [perp1+perp2,-perp1+perp2,perp1-perp2,-perp1-perp2]\n",
    "    bot = [vert+origin for vert in verts]\n",
    "    top = [vert+origin+extent for vert in verts]\n",
    "    vertices = [origin,origin+extent,bot[0],top[0],bot[1],top[1],bot[2],top[2],bot[3],top[3]]\n",
    "    vertices = np.transpose(np.asarray(vertices,np.float32),(1,0,2))\n",
    "    triangles = np.asarray([[1, 3, 5], [1, 5, 7], [1, 7, 9], [1, 9, 3], [3, 2, 4], [5, 4, 6], [7, 6, 8], [9, 8, 2], [2, 0, 0], [4, 0, 0], [6, 0, 0], [8, 0, 0],\n",
    "                            [1, 5, 1], [1, 7, 1], [1, 9, 1], [1, 3, 1], [3, 4, 5], [5, 6, 7], [7, 8, 9], [9, 2, 3], [2, 0, 4], [4, 0, 6], [6, 0, 8], [8, 0, 2]],\n",
    "                                dtype=np.int32)\n",
    "\n",
    "    # mesh = trimesh.Trimesh(vertices[0], triangles)\n",
    "    # mesh.visual.face_colors = [[255, 0, 0, 255]]*len(mesh.faces) if inside else [[0, 255, 0, 255]]*len(mesh.faces)\n",
    "    return vertices[0], triangles"
   ]
  },
  {
   "cell_type": "code",
   "execution_count": 10,
   "metadata": {},
   "outputs": [
    {
     "name": "stderr",
     "output_type": "stream",
     "text": [
      "100%|██████████| 65025/65025 [00:13<00:00, 4765.04it/s]\n"
     ]
    }
   ],
   "source": [
    "import tqdm\n",
    "\n",
    "cylinders = [render_track(line, 0.1, i) for line,i in tqdm.tqdm(zip(lines,inside), total=len(lines))]\n",
    "# cylinders = reduce(operator.add, cylinders)\n"
   ]
  },
  {
   "cell_type": "code",
   "execution_count": 19,
   "metadata": {},
   "outputs": [],
   "source": [
    "vertices = np.concatenate([c[0] for c in cylinders])\n",
    "triangles = np.concatenate([c[1]+10*i for i,c in enumerate(cylinders)])\n",
    "colors = [[[[255, 0, 0, 255]] * 24 if inside[i] else [[0, 255, 0, 255]] * 24 for i,c in enumerate(cylinders)]]"
   ]
  },
  {
   "cell_type": "code",
   "execution_count": 24,
   "metadata": {},
   "outputs": [],
   "source": [
    "colors = np.concatenate(colors).ravel().reshape(-1, 4)"
   ]
  },
  {
   "cell_type": "code",
   "execution_count": 25,
   "metadata": {},
   "outputs": [],
   "source": [
    "m = trimesh.Trimesh(vertices, triangles)\n",
    "m.visual.face_colors = colors"
   ]
  },
  {
   "cell_type": "code",
   "execution_count": null,
   "metadata": {},
   "outputs": [],
   "source": [
    "(m).show()"
   ]
  },
  {
   "cell_type": "code",
   "execution_count": 74,
   "metadata": {},
   "outputs": [],
   "source": [
    "voxelized_mesh = merged_mesh.voxelized(5)"
   ]
  },
  {
   "cell_type": "code",
   "execution_count": 75,
   "metadata": {},
   "outputs": [],
   "source": [
    "filled = voxelized_mesh.copy().fill(method=\"holes\")"
   ]
  },
  {
   "cell_type": "code",
   "execution_count": 106,
   "metadata": {},
   "outputs": [],
   "source": [
    "import tqdm\n",
    "\n",
    "fp = filled.points\n",
    "vp = voxelized_mesh.points\n",
    "\n",
    "pointdict = dict()\n",
    "for p in vp:\n",
    "    pointdict[(p[0], p[1], p[2])] = True\n",
    "\n",
    "all_pts = [p for p in fp if (p[0], p[1], p[2]) not in pointdict]\n",
    "all_pts = np.array(all_pts)\n",
    "\n",
    "colors = [[255,0,0,255] if (p[0], p[1], p[2]) not in pointdict else [0,255,0,255] for p in fp ]"
   ]
  },
  {
   "cell_type": "code",
   "execution_count": 115,
   "metadata": {},
   "outputs": [],
   "source": [
    "voxelized_mesh.colors = [200, 200, 200, 100]"
   ]
  },
  {
   "cell_type": "code",
   "execution_count": null,
   "metadata": {},
   "outputs": [],
   "source": [
    "pc = trimesh.PointCloud(all_pts, colors=[255,0,0,255])\n",
    "trimesh.Scene([merged_mesh, pc]).show()"
   ]
  },
  {
   "cell_type": "code",
   "execution_count": 48,
   "metadata": {},
   "outputs": [],
   "source": [
    "interior_voxels = np.where(voxelized_mesh.matrix)\n",
    "\n",
    "inverted_voxel_grid = np.zeros_like(voxelized_mesh.matrix, dtype=bool)\n",
    "inverted_voxel_grid[interior_voxels] = False  # Set interior voxels to False (outside)\n",
    "inverted_voxel_grid[~voxelized_mesh.matrix] = True  # Set exterior voxels to True (inside)"
   ]
  },
  {
   "cell_type": "code",
   "execution_count": 50,
   "metadata": {},
   "outputs": [
    {
     "ename": "AttributeError",
     "evalue": "'VoxelGrid' object has no attribute 'origin'",
     "output_type": "error",
     "traceback": [
      "\u001b[0;31m---------------------------------------------------------------------------\u001b[0m",
      "\u001b[0;31mAttributeError\u001b[0m                            Traceback (most recent call last)",
      "\u001b[0;32m<ipython-input-50-3463ce34bae4>\u001b[0m in \u001b[0;36m<module>\u001b[0;34m\u001b[0m\n\u001b[0;32m----> 1\u001b[0;31m \u001b[0minside_voxel_grid\u001b[0m \u001b[0;34m=\u001b[0m \u001b[0mtrimesh\u001b[0m\u001b[0;34m.\u001b[0m\u001b[0mvoxel\u001b[0m\u001b[0;34m.\u001b[0m\u001b[0mVoxelGrid\u001b[0m\u001b[0;34m(\u001b[0m\u001b[0minverted_voxel_grid\u001b[0m\u001b[0;34m,\u001b[0m \u001b[0mvoxelized_mesh\u001b[0m\u001b[0;34m.\u001b[0m\u001b[0morigin\u001b[0m\u001b[0;34m,\u001b[0m \u001b[0mvoxelized_mesh\u001b[0m\u001b[0;34m.\u001b[0m\u001b[0mscale\u001b[0m\u001b[0;34m)\u001b[0m\u001b[0;34m\u001b[0m\u001b[0;34m\u001b[0m\u001b[0m\n\u001b[0m",
      "\u001b[0;31mAttributeError\u001b[0m: 'VoxelGrid' object has no attribute 'origin'"
     ]
    }
   ],
   "source": [
    "inside_voxel_grid = trimesh.voxel.VoxelGrid(inverted_voxel_grid, voxelized_mesh.origin, voxelized_mesh.scale)"
   ]
  },
  {
   "cell_type": "code",
   "execution_count": 143,
   "metadata": {},
   "outputs": [],
   "source": [
    "stripped_assembly = trimesh.load_mesh('../data/stl/shorttpc_stripped_assembly_plugged.stl')\n",
    "stripped_assembly.apply_translation([-214.2051239013672, -102.32000297307968, -214.87561798095703])\n",
    "\n",
    "stripped_assembly += meshes['simplified_anode_substrate'] + meshes['simplified_anode']"
   ]
  },
  {
   "cell_type": "code",
   "execution_count": 153,
   "metadata": {},
   "outputs": [],
   "source": [
    "voxels = stripped_assembly.voxelized(5)\n",
    "\n",
    "filled = voxels.copy().fill(method='holes')\n",
    "\n",
    "fp = filled.points\n",
    "vp = voxels.points\n",
    "\n",
    "pointdict = dict()\n",
    "for p in vp:\n",
    "    pointdict[(p[0], p[1], p[2])] = True\n",
    "\n",
    "all_pts = [p for p in fp if (p[0], p[1], p[2]) not in pointdict]\n",
    "all_pts = np.array(all_pts)\n",
    "\n",
    "colors = [[255,0,0,255] if (p[0], p[1], p[2]) not in pointdict else [0,255,0,255] for p in fp ]"
   ]
  },
  {
   "cell_type": "code",
   "execution_count": null,
   "metadata": {},
   "outputs": [],
   "source": []
  },
  {
   "cell_type": "code",
   "execution_count": null,
   "metadata": {},
   "outputs": [],
   "source": [
    "pc = trimesh.PointCloud(all_pts, colors=[255,0,0,255])\n",
    "trimesh.Scene([merged_mesh, pc]).show()"
   ]
  }
 ],
 "metadata": {
  "kernelspec": {
   "display_name": "base",
   "language": "python",
   "name": "python3"
  },
  "language_info": {
   "codemirror_mode": {
    "name": "ipython",
    "version": 3
   },
   "file_extension": ".py",
   "mimetype": "text/x-python",
   "name": "python",
   "nbconvert_exporter": "python",
   "pygments_lexer": "ipython3",
   "version": "3.8.8"
  }
 },
 "nbformat": 4,
 "nbformat_minor": 2
}
