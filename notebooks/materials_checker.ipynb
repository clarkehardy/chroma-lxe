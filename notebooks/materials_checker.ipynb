{
 "cells": [
  {
   "cell_type": "code",
   "execution_count": 5,
   "metadata": {},
   "outputs": [],
   "source": [
    "import sys\n",
    "sys.path.append('..')\n",
    "import trimesh\n",
    "from macros.materials_checker import explode_mesh_gpu"
   ]
  },
  {
   "cell_type": "code",
   "execution_count": null,
   "metadata": {},
   "outputs": [],
   "source": [
    "mesh = trimesh.load_mesh(\n",
    "    \"../data/stl/short_tpc_assembly_modulo_anode_sipm.STL\"\n",
    ")\n",
    "\n",
    "YELLOW = [255, 255, 0, 255]\n",
    "GREEN = [0, 255, 0, 255]\n",
    "material1 = mesh\n",
    "material2 = trimesh.Trimesh(**explode_mesh_gpu(mesh))\n",
    "material1.visual.face_colors = YELLOW  # material1 inside = yellow\n",
    "material2.visual.face_colors = GREEN  # material2 = outside = green\n",
    "\n",
    "(material1 + material2).show()"
   ]
  }
 ],
 "metadata": {
  "kernelspec": {
   "display_name": "base",
   "language": "python",
   "name": "python3"
  },
  "language_info": {
   "codemirror_mode": {
    "name": "ipython",
    "version": 3
   },
   "file_extension": ".py",
   "mimetype": "text/x-python",
   "name": "python",
   "nbconvert_exporter": "python",
   "pygments_lexer": "ipython3",
   "version": "3.8.8"
  }
 },
 "nbformat": 4,
 "nbformat_minor": 2
}
