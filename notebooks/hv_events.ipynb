{
 "cells": [
  {
   "cell_type": "code",
   "execution_count": 1,
   "metadata": {},
   "outputs": [],
   "source": [
    "import glob\n",
    "\n",
    "stl_files = sorted(\n",
    "    glob.glob(\"/home/sam/sw/chroma-lxe/data/stl/electrode_stls/5000_parts/*.stl\")\n",
    ")"
   ]
  },
  {
   "cell_type": "code",
   "execution_count": 2,
   "metadata": {},
   "outputs": [
    {
     "name": "stdout",
     "output_type": "stream",
     "text": [
      "pygame 2.5.2 (SDL 2.28.2, Python 3.8.8)\n",
      "Hello from the pygame community. https://www.pygame.org/contribute.html\n",
      "Welcome to JupyROOT 6.22/02\n",
      "Setting up ROOT datatypes.\n"
     ]
    }
   ],
   "source": [
    "import trimesh\n",
    "import chroma\n",
    "from chroma.io.root import RootReader\n",
    "\n",
    "rr = RootReader(\"/home/sam/sw/chroma-lxe/geometry/hv.root\")"
   ]
  },
  {
   "cell_type": "code",
   "execution_count": 3,
   "metadata": {},
   "outputs": [],
   "source": [
    "import sys\n",
    "sys.path.append('../geometry')"
   ]
  },
  {
   "cell_type": "code",
   "execution_count": 4,
   "metadata": {},
   "outputs": [
    {
     "name": "stderr",
     "output_type": "stream",
     "text": [
      "/home/sam/sw/chroma/chroma/geometry.py:239: RuntimeWarning: overflow encountered in cast\n",
      "  self.__dict__[name] = np.array(list(zip(wavelengths, value)), dtype=np.float32)\n",
      "INFO:geometry:loading geometry from cache\n"
     ]
    }
   ],
   "source": [
    "from geometry import build_detector_from_yaml\n",
    "\n",
    "g = build_detector_from_yaml('../geometry/config/ea-hv.yaml')"
   ]
  },
  {
   "cell_type": "code",
   "execution_count": 5,
   "metadata": {},
   "outputs": [],
   "source": [
    "ev = next(rr)"
   ]
  },
  {
   "cell_type": "code",
   "execution_count": 6,
   "metadata": {},
   "outputs": [],
   "source": [
    "import numpy as np\n",
    "\n",
    "\n",
    "nchannels = g.num_channels()\n",
    "sum_hit = np.zeros(nchannels, dtype=np.float64)\n",
    "sum_q = np.zeros(nchannels, dtype=np.float64)\n",
    "nevents = len(rr)\n",
    "\n",
    "for i,ev in enumerate(rr):\n",
    "    sum_q[ev.channels.hit] += ev.channels.q[ev.channels.hit]\n",
    "    sum_hit += ev.channels.hit\n",
    "    \n",
    "sum_q = sum_q / np.clip(sum_hit, 1, None)"
   ]
  },
  {
   "cell_type": "code",
   "execution_count": 7,
   "metadata": {},
   "outputs": [],
   "source": [
    "sum_q[np.isnan(sum_q)] = 0"
   ]
  },
  {
   "cell_type": "code",
   "execution_count": 23,
   "metadata": {},
   "outputs": [
    {
     "name": "stderr",
     "output_type": "stream",
     "text": [
      "100%|██████████| 5000/5000 [00:04<00:00, 1185.36it/s]\n"
     ]
    }
   ],
   "source": [
    "import matplotlib.cm as cm\n",
    "from tqdm import tqdm\n",
    "from matplotlib.colors import LogNorm\n",
    "\n",
    "map = cm.viridis\n",
    "ax = (sum_q - float(sum_q.min())) / (float(sum_q.max()) - float(sum_q.min()))\n",
    "ax_log = LogNorm()(ax)\n",
    "# ax_log = np.log(ax + 1e-4)\n",
    "\n",
    "frgba = (map(ax_log) * 255).astype(int)\n",
    "\n",
    "\n",
    "total_mesh = []\n",
    "for i, stl_file in enumerate(tqdm(stl_files)):\n",
    "    mesh = trimesh.load(stl_file)\n",
    "    if any(mesh.vertices[:, 2] > 339.74896132):\n",
    "        continue\n",
    "\n",
    "    mesh.visual.face_colors = frgba[i]\n",
    "    total_mesh.append(mesh)"
   ]
  },
  {
   "cell_type": "code",
   "execution_count": 9,
   "metadata": {},
   "outputs": [],
   "source": [
    "hv_fiber = trimesh.load('/home/sam/sw/chroma-lxe/data/stl/EA-HV_fiber.STL')"
   ]
  },
  {
   "cell_type": "code",
   "execution_count": null,
   "metadata": {},
   "outputs": [],
   "source": [
    "trimesh.Scene([total_mesh,hv_fiber]).show()"
   ]
  },
  {
   "cell_type": "code",
   "execution_count": 48,
   "metadata": {},
   "outputs": [
    {
     "data": {
      "image/png": "[encoded data removed]",
      "text/plain": [
       "<Figure size 432x288 with 2 Axes>"
      ]
     },
     "metadata": {
      "needs_background": "light"
     },
     "output_type": "display_data"
    }
   ],
   "source": [
    "import matplotlib.pyplot as plt\n",
    "\n",
    "# make a colorbar with the same colormap\n",
    "fig, ax = plt.subplots()\n",
    "cax = ax.imshow([sum_q], cmap='viridis', norm=LogNorm(vmin=sum_q.min(), vmax=sum_q.max()))\n",
    "fig.colorbar(cax)\n",
    "plt.show()"
   ]
  },
  {
   "cell_type": "code",
   "execution_count": 38,
   "metadata": {},
   "outputs": [
    {
     "data": {
      "text/plain": [
       "4.221943415495205"
      ]
     },
     "execution_count": 38,
     "metadata": {},
     "output_type": "execute_result"
    }
   ],
   "source": [
    "np.log10(sum_q.max())"
   ]
  }
 ],
 "metadata": {
  "kernelspec": {
   "display_name": "base",
   "language": "python",
   "name": "python3"
  },
  "language_info": {
   "codemirror_mode": {
    "name": "ipython",
    "version": 3
   },
   "file_extension": ".py",
   "mimetype": "text/x-python",
   "name": "python",
   "nbconvert_exporter": "python",
   "pygments_lexer": "ipython3",
   "version": "3.8.8"
  }
 },
 "nbformat": 4,
 "nbformat_minor": 2
}
